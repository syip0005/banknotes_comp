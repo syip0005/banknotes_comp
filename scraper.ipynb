{
 "cells": [
  {
   "cell_type": "code",
   "execution_count": 1,
   "metadata": {},
   "outputs": [],
   "source": [
    "from selenium import webdriver\n",
    "from selenium.webdriver.common.by import By\n",
    "import requests\n",
    "import io\n",
    "from PIL import Image\n",
    "import time\n"
   ]
  },
  {
   "cell_type": "code",
   "execution_count": 2,
   "metadata": {},
   "outputs": [],
   "source": [
    "wd = webdriver.Chrome()"
   ]
  },
  {
   "cell_type": "code",
   "execution_count": 4,
   "metadata": {},
   "outputs": [],
   "source": [
    "kw_dict = {\n",
    "    'AU': ['australian+banknote', 'australian+bank+note', 'australia+banknote', 'AU+banknote', 'AU+bank+note',\n",
    "           'australian+currency+note', 'AU+currency+note', 'australian+dollar+note']\n",
    "}"
   ]
  },
  {
   "cell_type": "code",
   "execution_count": null,
   "metadata": {},
   "outputs": [],
   "source": [
    "def get_images_from_google(wd, delay, max_images, curr='AU'):\n",
    "    def scroll_down(wd):\n",
    "        wd.execute_script(\"window.scrollTo(0, document.body.scrollHeight);\")\n",
    "        time.sleep(delay)\n",
    "    for kw in kw_dict[curr]:\n",
    "        url = f\"https://www.google.com/search?q=australian+bank+notes&tbm=isch&ved=2ahUKEwicnLqB5-qBAxU6a2wGHVOBDJgQ2-cCegQIABAA&oq={kw}&gs_lcp=CgNpbWcQAzIFCAAQgAQyBQgAEIAEMgYIABAFEB4yBggAEAUQHjIGCAAQBRAeMgYIABAFEB4yBwgAEBgQgAQyBwgAEBgQgAQyBwgAEBgQgAQyBwgAEBgQgAQ6CggAEIoFELEDEEM6CAgAEIAEELEDOgcIABCKBRBDOgYIABAIEB5Q9wtYxSJgniNoAHAAeACAAeYBiAHnGZIBBjAuMTguM5gBAKABAaoBC2d3cy13aXotaW1nwAEB&sclient=img&ei=uugkZZzXObrWseMP04KywAk&bih=817&biw=1707&rlz=1C1CHBF_enCA918CA918#imgrc=1RjR-xtqYvl8cM\"\n",
    "        wd.get(url)\n",
    "\n",
    "        image_urls = set()\n",
    "        skips = 0\n",
    "\n",
    "        while len(image_urls) + skips < max_images:\n",
    "            scroll_down(wd)\n",
    "\n",
    "            thumbnails = wd.find_elements(By.CLASS_NAME, \"Q4LuWd\")\n",
    "\n",
    "            for img in thumbnails[len(image_urls) + skips:max_images]:\n",
    "                try:\n",
    "                    img.click()\n",
    "                    time.sleep(delay)\n",
    "                except:\n",
    "                    continue\n",
    "\n",
    "                images = wd.find_elements(By.CLASS_NAME, \"pT0Scc\")\n",
    "                for image in images:\n",
    "                    if image.get_attribute('src') in image_urls:\n",
    "                        max_images += 1\n",
    "                        skips += 1\n",
    "                        break\n",
    "\n",
    "                    if image.get_attribute('src') and 'http' in image.get_attribute('src'):\n",
    "                        image_urls.add(image.get_attribute('src'))\n",
    "                        print(f\"Found {len(image_urls)}\")\n",
    "                        \n",
    "    return image_urls"
   ]
  },
  {
   "cell_type": "code",
   "execution_count": null,
   "metadata": {},
   "outputs": [],
   "source": [
    "def download_image(download_path, url, file_name):\n",
    "\ttry:\n",
    "\t\timage_content = requests.get(url).content\n",
    "\t\timage_file = io.BytesIO(image_content)\n",
    "\t\timage = Image.open(image_file)\n",
    "\t\tfile_path = download_path + file_name\n",
    "\n",
    "\t\twith open(file_path, \"wb\") as f:\n",
    "\t\t\timage.save(f, \"JPEG\")\n",
    "\n",
    "\t\tprint(\"Success\")\n",
    "\texcept Exception as e:\n",
    "\t\tprint('FAILED -', e)\n"
   ]
  },
  {
   "cell_type": "code",
   "execution_count": null,
   "metadata": {},
   "outputs": [],
   "source": [
    "urls = get_images_from_google(wd, 0.2, 1000)\n",
    "\n",
    "for i, url in enumerate(urls):\n",
    "\tdownload_image(\"imgs\\\\\", url, str(i) + \".jpg\")"
   ]
  }
 ],
 "metadata": {
  "kernelspec": {
   "display_name": "py311",
   "language": "python",
   "name": "python3"
  },
  "language_info": {
   "codemirror_mode": {
    "name": "ipython",
    "version": 3
   },
   "file_extension": ".py",
   "mimetype": "text/x-python",
   "name": "python",
   "nbconvert_exporter": "python",
   "pygments_lexer": "ipython3",
   "version": "3.11.5"
  }
 },
 "nbformat": 4,
 "nbformat_minor": 2
}
